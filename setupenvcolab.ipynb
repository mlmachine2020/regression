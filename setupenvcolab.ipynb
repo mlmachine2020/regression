{
  "nbformat": 4,
  "nbformat_minor": 0,
  "metadata": {
    "colab": {
      "name": "setupenvcolab.ipynb",
      "provenance": [],
      "include_colab_link": true
    },
    "kernelspec": {
      "name": "python3",
      "display_name": "Python 3"
    }
  },
  "cells": [
    {
      "cell_type": "markdown",
      "metadata": {
        "id": "view-in-github",
        "colab_type": "text"
      },
      "source": [
        "<a href=\"https://colab.research.google.com/github/mlmachine2020/regression/blob/master/setupenvcolab.ipynb\" target=\"_parent\"><img src=\"https://colab.research.google.com/assets/colab-badge.svg\" alt=\"Open In Colab\"/></a>"
      ]
    },
    {
      "cell_type": "code",
      "metadata": {
        "id": "K5S_sp0UMGVB",
        "colab_type": "code",
        "colab": {}
      },
      "source": [
        "# note all these cells should be able execute without any errors - execute each time if need to observe the output"
      ],
      "execution_count": 0,
      "outputs": []
    },
    {
      "cell_type": "code",
      "metadata": {
        "id": "LitvRx-4Ny6E",
        "colab_type": "code",
        "colab": {
          "base_uri": "https://localhost:8080/",
          "height": 139
        },
        "outputId": "8f3b8e66-4dff-40d5-8bfe-ab45a3d6762c"
      },
      "source": [
        "from google.colab import drive    # need to execute this command most days, during mounting process, click on the link it provides and then accept, copy the authorization code\n",
        "drive.mount('/gdrive')\n",
        "%cd /gdrive"
      ],
      "execution_count": 3,
      "outputs": [
        {
          "output_type": "stream",
          "text": [
            "Go to this URL in a browser: https://accounts.google.com/o/oauth2/auth?client_id=947318989803-6bn6qk8qdgf4n4g3pfee6491hc0brc4i.apps.googleusercontent.com&redirect_uri=urn%3aietf%3awg%3aoauth%3a2.0%3aoob&response_type=code&scope=email%20https%3a%2f%2fwww.googleapis.com%2fauth%2fdocs.test%20https%3a%2f%2fwww.googleapis.com%2fauth%2fdrive%20https%3a%2f%2fwww.googleapis.com%2fauth%2fdrive.photos.readonly%20https%3a%2f%2fwww.googleapis.com%2fauth%2fpeopleapi.readonly\n",
            "\n",
            "Enter your authorization code:\n",
            "··········\n",
            "Mounted at /gdrive\n",
            "/gdrive\n"
          ],
          "name": "stdout"
        }
      ]
    },
    {
      "cell_type": "code",
      "metadata": {
        "id": "9WLqxTvbPMe2",
        "colab_type": "code",
        "colab": {}
      },
      "source": [
        "# mathematical expression needed \n",
        "y = mx+c - regression  => y = f(x)\n",
        "\n"
      ],
      "execution_count": 0,
      "outputs": []
    },
    {
      "cell_type": "code",
      "metadata": {
        "id": "wRR5uf8ePMrT",
        "colab_type": "code",
        "colab": {}
      },
      "source": [
        "import matplotlib.pyplot as plt\n",
        "import numpy as np\n",
        "import pandas as pd\n",
        "\n"
      ],
      "execution_count": 0,
      "outputs": []
    },
    {
      "cell_type": "code",
      "metadata": {
        "id": "IXN9-DnmSk7E",
        "colab_type": "code",
        "colab": {}
      },
      "source": [
        "# some data of x and y inside []\n",
        "X_and_y = [ (0,1),(1,3),(2,2),(3,5),(4,7),(5,8),(6,8),(7,9),(8,10),(9,12) ]"
      ],
      "execution_count": 0,
      "outputs": []
    },
    {
      "cell_type": "code",
      "metadata": {
        "id": "YSDGMEzxTqK3",
        "colab_type": "code",
        "colab": {}
      },
      "source": [
        "df = pd.DataFrame( X_and_y , columns=['X','y'])\n",
        "df\n"
      ],
      "execution_count": 0,
      "outputs": []
    },
    {
      "cell_type": "code",
      "metadata": {
        "id": "CwmbC13kVuC-",
        "colab_type": "code",
        "colab": {}
      },
      "source": [
        "X = df['X']\n",
        "y = df['y']\n",
        "plt.scatter(X,y)"
      ],
      "execution_count": 0,
      "outputs": []
    },
    {
      "cell_type": "code",
      "metadata": {
        "id": "lGeGz33wVuH0",
        "colab_type": "code",
        "colab": {}
      },
      "source": [
        "# Above regression to be deployed in Machine learning\n",
        "b = 1 \n",
        "w = 1\n",
        "\n",
        "y_predicted = b + w*X\n",
        "plt.plot(X,y_predicted)     # this using above data plotting as line instead scatter\n",
        "plt.scatter(X,y)     #  this would include the scatter data\n",
        "\n"
      ],
      "execution_count": 0,
      "outputs": []
    },
    {
      "cell_type": "code",
      "metadata": {
        "id": "ak2aQPwdTqVj",
        "colab_type": "code",
        "colab": {}
      },
      "source": [
        "# Improvement of the above graph\n",
        "b = 0.6 \n",
        "w = 1.5\n",
        "\n",
        "y_predicted = b + w*X\n",
        "plt.plot(X,y_predicted)     # this using above data plotting as line instead scatter\n",
        "plt.scatter(X,y)     #  this would include the scatter data\n",
        "\n"
      ],
      "execution_count": 0,
      "outputs": []
    },
    {
      "cell_type": "code",
      "metadata": {
        "id": "Tr7gs36SXvv-",
        "colab_type": "code",
        "colab": {}
      },
      "source": [
        "# calculating the errors\n",
        "error = y - y_predicted\n",
        "# print(error)\n",
        "# better infor is avg of error\n",
        "print(np.mean(error))\n",
        "plt.plot(X,y_predicted)     # this using above data plotting as line instead scatter\n",
        "plt.scatter(X,y)\n"
      ],
      "execution_count": 0,
      "outputs": []
    },
    {
      "cell_type": "code",
      "metadata": {
        "id": "Oy1rDRz4Xv4E",
        "colab_type": "code",
        "colab": {}
      },
      "source": [
        "# the mean error close to zero (adjust the weight(w), bias(b), or try the absolute abs function, or error square)\n",
        "# or commonly used is \"Lost Squared (L2)\"\n",
        "b = 0\n",
        "w = 1.5\n",
        "# calculating the errors\n",
        "error = y - y_predicted\n",
        "\n",
        "# better infor is avg of error\n",
        "print(np.mean(error**2))\n",
        "L2 = 0.5*np.mean(error**2)\n",
        "print(L2)\n",
        "plt.plot(X,y_predicted)     # this using above data plotting as line instead scatter\n",
        "plt.scatter(X,y)"
      ],
      "execution_count": 0,
      "outputs": []
    },
    {
      "cell_type": "code",
      "metadata": {
        "id": "e_KZIN_CYuG2",
        "colab_type": "code",
        "colab": {}
      },
      "source": [
        "# iterate (w) the L2 values using a loop\n",
        "b = 0\n",
        "# w = 1.5\n",
        "w_guess =[0.75, 1.0, 1.25, 1.49, 1.75, 2.0]\n",
        "\n",
        "for w in w_guess:\n",
        "  y_predicted = b + w*X\n",
        "\n",
        "  # calculating the errors\n",
        "  error = y - y_predicted\n",
        "\n",
        "  # better infor is avg of error\n",
        "  print(np.mean(error**2))\n",
        "  L2 = 0.5*np.mean(error**2)\n",
        "  print(w,L2)\n",
        "\n",
        "#plt.plot(X,y_predicted)     # this using above data plotting as line instead scatter\n",
        "plt.scatter(X,y)\n",
        "plt.plot(X, y_predicted)\n",
        "\n"
      ],
      "execution_count": 0,
      "outputs": []
    },
    {
      "cell_type": "code",
      "metadata": {
        "id": "lhGVzpFxYuQE",
        "colab_type": "code",
        "colab": {}
      },
      "source": [
        "# iterate (w) the L2 values using a loop - and greater clarity on the graphy\n",
        "b = 0\n",
        "# w = 1.5\n",
        "#w_guess =[0.75, 1.0, 1.25, 1.49, 1.75, 2.0]\n",
        "w_guess = np.linspace(0.75, 2.0, num=30)       # this is used instead of above line, num=30, is desired number of points\n",
        "#print(list(w_guess))\n",
        "\n",
        "# A empty list is needed for every value of w, this list is appended L2 below\n",
        "L2_list = [] \n",
        "for w in w_guess:\n",
        "  y_predicted = b + w*X\n",
        "  # calculating the errors\n",
        "  error = y - y_predicted\n",
        "  # better infor is avg of error\n",
        "  print(np.mean(error**2))\n",
        "  L2 = 0.5*np.mean(error**2)\n",
        "  L2_list.append(L2)\n",
        "  print(w,L2)\n",
        "\n",
        "plt.plot(w_guess, L2_list)"
      ],
      "execution_count": 0,
      "outputs": []
    },
    {
      "cell_type": "code",
      "metadata": {
        "id": "D-wC8fT_dtpW",
        "colab_type": "code",
        "colab": {
          "base_uri": "https://localhost:8080/",
          "height": 282
        },
        "outputId": "615b5076-a640-4b0e-98aa-b383f81361b2"
      },
      "source": [
        "# iterate (w) the L2 values using a loop - and greater clarity on the graphy \n",
        "# smoother curve without any of the print calls\n",
        "b = 0\n",
        "# w = 1.5\n",
        "\n",
        "w_guess = np.linspace(0.75, 2.0, num=30)       # this is used instead of above line, num=30, is desired number of points\n",
        "\n",
        "\n",
        "# A empty list is needed for every value of w, this list is appended L2 below\n",
        "L2_list = [] \n",
        "for w in w_guess:\n",
        "  y_predicted = b + w*X\n",
        "  # calculating the errors\n",
        "  error = y - y_predicted\n",
        "  # better infor is avg of error\n",
        "  #print(np.mean(error**2))\n",
        "  L2 = 0.5*np.mean(error**2)\n",
        "  L2_list.append(L2)\n",
        "  #print(w,L2)\n",
        "\n",
        "plt.plot(w_guess, L2_list)"
      ],
      "execution_count": 34,
      "outputs": [
        {
          "output_type": "execute_result",
          "data": {
            "text/plain": [
              "[<matplotlib.lines.Line2D at 0x7f1897f6b080>]"
            ]
          },
          "metadata": {
            "tags": []
          },
          "execution_count": 34
        },
        {
          "output_type": "display_data",
          "data": {
            "image/png": "[encoded data removed]",
            "text/plain": [
              "<Figure size 432x288 with 1 Axes>"
            ]
          },
          "metadata": {
            "tags": []
          }
        }
      ]
    },
    {
      "cell_type": "code",
      "metadata": {
        "id": "UJ33EJmrdtyc",
        "colab_type": "code",
        "colab": {}
      },
      "source": [
        ""
      ],
      "execution_count": 0,
      "outputs": []
    },
    {
      "cell_type": "code",
      "metadata": {
        "id": "PNFEEK2SiWh2",
        "colab_type": "code",
        "colab": {}
      },
      "source": [
        ""
      ],
      "execution_count": 0,
      "outputs": []
    }
  ]
}